{
 "cells": [
  {
   "cell_type": "code",
   "execution_count": null,
   "metadata": {},
   "outputs": [],
   "source": [
    "from pyspark import SparkContext                                                                                        \n",
    "from pyspark.sql import SparkSession                                                                                    \n",
    "from pyspark.streaming import StreamingContext                                                                          \n",
    "from pyspark.streaming.kafka import KafkaUtils\n",
    "from pyspark.sql.functions import *\n",
    "from pyspark.sql import functions as F\n",
    "import pandas as pd\n",
    "\n",
    "from pyspark.sql import functions as sf\n",
    "import json\n",
    "import time\n",
    "from pyspark.sql.functions import col\n",
    "import yaml"
   ]
  },
  {
   "cell_type": "code",
   "execution_count": null,
   "metadata": {},
   "outputs": [],
   "source": [
    "ss = SparkSession.Builder() \\\n",
    "     .appName(\"SparkBatchStreamingKafka\") \\\n",
    "     .master(\"spark://speed-processing-spark-master:7077\") \\\n",
    "     .config(\"spark.jars\", \"./spark-streaming-kafka-0-10-assembly_2.11-2.4.1.jar,./kafka-clients-0.10.1.0.jar,./spark-sql-kafka-0-10_2.11-2.4.1.jar\") \\\n",
    "     .config(\"spark.sql.warehouse.dir\", \"hdfs://namenode:9000/\") \\\n",
    "     .getOrCreate()"
   ]
  },
  {
   "cell_type": "code",
   "execution_count": null,
   "metadata": {},
   "outputs": [],
   "source": [
    "df = ss \\\n",
    "  .readStream \\\n",
    "  .format(\"kafka\") \\\n",
    "  .option(\"kafka.bootstrap.servers\", \"kafka-broker-1:9093,kafka-broker-2:9093,kafka-broker-3:9093\") \\\n",
    "  .option(\"partition.assignment.strategy\", \"none\") \\\n",
    "  .option(\"subscribe\", \"trips\") \\\n",
    "  .load()\n"
   ]
  },
  {
   "cell_type": "code",
   "execution_count": null,
   "metadata": {},
   "outputs": [],
   "source": [
    "import random\n",
    "\n",
    "def transform_window(s):\n",
    "    \"\"\"\n",
    "    s = Row(start=datetime.datetime(2020, 12, 21, 17, 9, 30), end=datetime.datetime(2020, 12, 21, 17, 9, 40))\n",
    "    \"\"\"\n",
    "    return str(int(s.end.timestamp()))\n",
    "\n",
    "def transform_count(s):\n",
    "    \"\"\"\n",
    "    s = 941\n",
    "    \"\"\"\n",
    "    return str(s + random.randint(0,1000))\n",
    "udf_transform_window = udf(transform_window)\n",
    "udf_transform_count = udf(transform_count)"
   ]
  },
  {
   "cell_type": "code",
   "execution_count": null,
   "metadata": {},
   "outputs": [],
   "source": [
    "query = df.withWatermark(\"timestamp\", \"15 seconds\") \\\n",
    "        .groupBy(window(\"timestamp\", \"5 seconds\", \"5 seconds\")) \\\n",
    "        .count() \\\n",
    "        .withColumn(\"count\", udf_transform_count(\"count\")) \\\n",
    "        .withColumn(\"window\", udf_transform_window(\"window\")) \\\n",
    "        .withColumn('value', sf.concat(sf.col('window'),sf.lit('_'), sf.col('count'))) \\\n",
    "        .writeStream \\\n",
    "        .format(\"kafka\") \\\n",
    "        .option(\"kafka.bootstrap.servers\", \"kafka-broker-1:9093,kafka-broker-2:9093,kafka-broker-3:9093\") \\\n",
    "        .option(\"topic\", \"real-time-statistic\") \\\n",
    "        .option(\"checkpointLocation\", \"/tmp/checkpoint\") \\\n",
    "        .outputMode(\"append\") \\\n",
    "        .option(\"truncate\", False) \\\n",
    "        .start()\n",
    "query.awaitTermination()"
   ]
  },
  {
   "cell_type": "code",
   "execution_count": null,
   "metadata": {},
   "outputs": [],
   "source": []
  }
 ],
 "metadata": {
  "kernelspec": {
   "display_name": "Python 3",
   "language": "python",
   "name": "python3"
  },
  "language_info": {
   "codemirror_mode": {
    "name": "ipython",
    "version": 3
   },
   "file_extension": ".py",
   "mimetype": "text/x-python",
   "name": "python",
   "nbconvert_exporter": "python",
   "pygments_lexer": "ipython3",
   "version": "3.7.6"
  }
 },
 "nbformat": 4,
 "nbformat_minor": 4
}
