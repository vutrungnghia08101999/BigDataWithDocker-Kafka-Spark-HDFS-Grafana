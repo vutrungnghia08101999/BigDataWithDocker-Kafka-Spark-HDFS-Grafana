{
 "cells": [
  {
   "cell_type": "code",
   "execution_count": 1,
   "metadata": {},
   "outputs": [],
   "source": [
    "from pyspark import SparkContext                                                                                        \n",
    "from pyspark.sql import SparkSession                                                                                    \n",
    "from pyspark.streaming import StreamingContext                                                                          \n",
    "from pyspark.streaming.kafka import KafkaUtils    \n",
    "import pandas as pd\n",
    "import json"
   ]
  },
  {
   "cell_type": "code",
   "execution_count": 2,
   "metadata": {},
   "outputs": [],
   "source": [
    "ss = SparkSession.Builder() \\\n",
    "     .appName(\"SparkStreamingKafka\") \\\n",
    "     .master(\"spark://streaming-spark-master:7077\") \\\n",
    "     .config(\"spark.jars\", \"./spark-streaming-kafka-0-8-assembly_2.11-2.4.1.jar\") \\\n",
    "     .config(\"spark.driver.allowMultipleContexts\", \"true\") \\\n",
    "     .config(\"hive.metastore.uris\", \"thrift://hive-metastore:9083\") \\\n",
    "     .config(\"spark.sql.warehouse.dir\", \"hdfs://namenode:9000/hive\") \\\n",
    "     .enableHiveSupport() \\\n",
    "     .getOrCreate()\n",
    "\n",
    "# .config('spark.jars.packages', 'org.apache.spark:spark-streaming-kafka-0-8-assembly_2.11:2.4.1') \\"
   ]
  },
  {
   "cell_type": "code",
   "execution_count": 3,
   "metadata": {},
   "outputs": [],
   "source": [
    "sc = ss.sparkContext\n",
    "ssc = StreamingContext(sc, 5)\n",
    "ss.sparkContext.setLogLevel('WARN')"
   ]
  },
  {
   "cell_type": "code",
   "execution_count": 4,
   "metadata": {},
   "outputs": [],
   "source": [
    "def handle_rdd(rdd):\n",
    "    if not rdd.isEmpty():\n",
    "        global ss\n",
    "        print(f\"Number of records: {len(rdd.collect())}\")\n",
    "        df = ss.createDataFrame(\n",
    "            rdd,\n",
    "            schema=[\n",
    "                'ArrivalTime',\n",
    "                'BusinessLeisure',\n",
    "                'CabinCategory',\n",
    "                'CreationDate',\n",
    "                'CurrencyCode',\n",
    "                'DepartureTime',\n",
    "                'Destination',\n",
    "                'OfficeIdCountry',\n",
    "                'Origin',\n",
    "                'TotalAmount',\n",
    "                'nPAX'\n",
    "            ])\n",
    "        df.write.saveAsTable(name='default.trips', format='hive', mode='append')"
   ]
  },
  {
   "cell_type": "code",
   "execution_count": 7,
   "metadata": {},
   "outputs": [],
   "source": [
    "def json_to_list(s):\n",
    "    t = json.loads(s)\n",
    "    results = []\n",
    "    for k, v in t.items():\n",
    "        results.append(v)\n",
    "    return results"
   ]
  },
  {
   "cell_type": "code",
   "execution_count": null,
   "metadata": {},
   "outputs": [
    {
     "name": "stdout",
     "output_type": "stream",
     "text": [
      "Number of records: 1418\n",
      "Number of records: 2824\n",
      "Number of records: 3408\n",
      "Number of records: 3269\n",
      "Number of records: 3005\n",
      "Number of records: 3048\n",
      "Number of records: 3305\n",
      "Number of records: 2996\n",
      "Number of records: 2915\n",
      "Number of records: 3251\n",
      "Number of records: 3290\n",
      "Number of records: 2937\n",
      "Number of records: 3195\n",
      "Number of records: 3158\n",
      "Number of records: 3419\n",
      "Number of records: 3300\n",
      "Number of records: 3478\n",
      "Number of records: 3451\n",
      "Number of records: 3317\n",
      "Number of records: 3476\n",
      "Number of records: 3504\n",
      "Number of records: 3501\n",
      "Number of records: 3333\n",
      "Number of records: 3128\n",
      "Number of records: 3492\n",
      "Number of records: 3571\n",
      "Number of records: 3533\n",
      "Number of records: 3589\n",
      "Number of records: 3544\n",
      "Number of records: 3505\n",
      "Number of records: 3248\n"
     ]
    }
   ],
   "source": [
    "ks = KafkaUtils.createDirectStream(\n",
    "    ssc, ['trips'], {'metadata.broker.list': 'kafka-broker-1:9093,kafka-broker-2:9093'})\n",
    "lines = ks.map(lambda x: x[1])\n",
    "\n",
    "# transform = lines.map(lambda tweet: (tweet, int(len(tweet.split())), int(len(tweet))))\n",
    "transform = lines.map(lambda tripInfo: json_to_list(tripInfo))\n",
    "transform.foreachRDD(handle_rdd)\n",
    "ssc.start()\n",
    "ssc.awaitTermination()"
   ]
  },
  {
   "cell_type": "code",
   "execution_count": null,
   "metadata": {},
   "outputs": [],
   "source": []
  }
 ],
 "metadata": {
  "kernelspec": {
   "display_name": "Python 3",
   "language": "python",
   "name": "python3"
  },
  "language_info": {
   "codemirror_mode": {
    "name": "ipython",
    "version": 3
   },
   "file_extension": ".py",
   "mimetype": "text/x-python",
   "name": "python",
   "nbconvert_exporter": "python",
   "pygments_lexer": "ipython3",
   "version": "3.7.6"
  }
 },
 "nbformat": 4,
 "nbformat_minor": 4
}
