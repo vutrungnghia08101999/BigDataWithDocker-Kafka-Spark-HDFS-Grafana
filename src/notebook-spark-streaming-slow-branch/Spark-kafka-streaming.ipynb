{
 "cells": [
  {
   "cell_type": "code",
   "execution_count": 1,
   "metadata": {},
   "outputs": [],
   "source": [
    "from pyspark import SparkContext                                                                                        \n",
    "from pyspark.sql import SparkSession                                                                                    \n",
    "from pyspark.streaming import StreamingContext                                                                          \n",
    "from pyspark.streaming.kafka import KafkaUtils    \n",
    "import pandas as pd\n",
    "import json"
   ]
  },
  {
   "cell_type": "code",
   "execution_count": 2,
   "metadata": {},
   "outputs": [],
   "source": [
    "ss = SparkSession.Builder() \\\n",
    "     .appName(\"SparkStreamingKafka\") \\\n",
    "     .master(\"spark://streaming-spark-master:7077\") \\\n",
    "     .config('spark.jars.packages', 'org.apache.spark:spark-streaming-kafka-0-8-assembly_2.11:2.4.1') \\\n",
    "     .config(\"spark.driver.allowMultipleContexts\", \"true\") \\\n",
    "     .config(\"hive.metastore.uris\", \"thrift://hive-metastore:9083\") \\\n",
    "     .config(\"spark.sql.warehouse.dir\", \"hdfs://namenode:9000/hive\") \\\n",
    "     .enableHiveSupport() \\\n",
    "     .getOrCreate()\n",
    "\n",
    "# ss = SparkSession.Builder() \\\n",
    "#      .appName(\"TEST\") \\\n",
    "#      .master(\"spark://spark-master:7077\") \\\n",
    "#      .enableHiveSupport() \\\n",
    "#      .getOrCreate()\n",
    "# #\n",
    "#org.apache.spark:spark-sql-kafka-0-10_2.11:2.4.1\n",
    "#org.apache.spark:spark-streaming-kafka-0-8:2.4.1"
   ]
  },
  {
   "cell_type": "code",
   "execution_count": 3,
   "metadata": {},
   "outputs": [],
   "source": [
    "sc = ss.sparkContext\n",
    "ssc = StreamingContext(sc, 5)\n",
    "ss.sparkContext.setLogLevel('WARN')"
   ]
  },
  {
   "cell_type": "code",
   "execution_count": 4,
   "metadata": {},
   "outputs": [],
   "source": [
    "def handle_rdd(rdd):\n",
    "    if not rdd.isEmpty():\n",
    "        global ss\n",
    "        print(f\"Number of records: {len(rdd.collect())}\")\n",
    "        df = ss.createDataFrame(\n",
    "            rdd,\n",
    "            schema=[\n",
    "                'ArrivalTime',\n",
    "                'BusinessLeisure',\n",
    "                'CabinCategory',\n",
    "                'CreationDate',\n",
    "                'CurrencyCode',\n",
    "                'DepartureTime',\n",
    "                'Destination',\n",
    "                'OfficeIdCountry',\n",
    "                'Origin',\n",
    "                'TotalAmount',\n",
    "                'nPAX'\n",
    "            ])\n",
    "        df.write.saveAsTable(name='default.trips', format='hive', mode='append')"
   ]
  },
  {
   "cell_type": "code",
   "execution_count": 5,
   "metadata": {},
   "outputs": [],
   "source": [
    "def json_to_list(s):\n",
    "    t = json.loads(s)\n",
    "    results = []\n",
    "    for k, v in t.items():\n",
    "        results.append(v)\n",
    "    return results"
   ]
  },
  {
   "cell_type": "code",
   "execution_count": null,
   "metadata": {},
   "outputs": [
    {
     "name": "stdout",
     "output_type": "stream",
     "text": [
      "Number of records: 227\n"
     ]
    }
   ],
   "source": [
    "ks = KafkaUtils.createDirectStream(ssc, ['trips'], {'metadata.broker.list': 'kafka:9093'})\n",
    "lines = ks.map(lambda x: x[1])\n",
    "\n",
    "# transform = lines.map(lambda tweet: (tweet, int(len(tweet.split())), int(len(tweet))))\n",
    "transform = lines.map(lambda tripInfo: json_to_list(tripInfo))\n",
    "transform.foreachRDD(handle_rdd)\n",
    "ssc.start()\n",
    "ssc.awaitTermination()"
   ]
  },
  {
   "cell_type": "code",
   "execution_count": null,
   "metadata": {},
   "outputs": [],
   "source": []
  }
 ],
 "metadata": {
  "kernelspec": {
   "display_name": "Python 3",
   "language": "python",
   "name": "python3"
  },
  "language_info": {
   "codemirror_mode": {
    "name": "ipython",
    "version": 3
   },
   "file_extension": ".py",
   "mimetype": "text/x-python",
   "name": "python",
   "nbconvert_exporter": "python",
   "pygments_lexer": "ipython3",
   "version": "3.7.6"
  }
 },
 "nbformat": 4,
 "nbformat_minor": 4
}
