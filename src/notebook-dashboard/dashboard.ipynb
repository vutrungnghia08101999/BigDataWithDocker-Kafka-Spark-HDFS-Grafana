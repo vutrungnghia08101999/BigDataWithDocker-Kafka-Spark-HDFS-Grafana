{
 "cells": [
  {
   "cell_type": "code",
   "execution_count": 33,
   "metadata": {},
   "outputs": [],
   "source": [
    "from pyhive import hive\n",
    "import seaborn as sns\n",
    "from pyspark import SparkContext\n",
    "from pyspark.sql import SparkSession\n",
    "from pyspark.streaming import StreamingContext\n",
    "from pyspark.streaming.kafka import KafkaUtils\n",
    "import pandas as pd\n",
    "import json\n",
    "import matplotlib.pyplot as plt\n",
    "import numpy as np\n",
    "from datetime import datetime"
   ]
  },
  {
   "cell_type": "markdown",
   "metadata": {},
   "source": [
    "### Kết nối Spark và Hive"
   ]
  },
  {
   "cell_type": "code",
   "execution_count": 34,
   "metadata": {},
   "outputs": [],
   "source": [
    "ss = SparkSession.Builder() \\\n",
    "     .appName(\"DashBoard\") \\\n",
    "     .master(\"spark://batch-processing-spark-master:7077\") \\\n",
    "     .config(\"hive.metastore.uris\", \"thrift://hive-metastore:9083\") \\\n",
    "     .config(\"spark.sql.warehouse.dir\", \"hdfs://namenode:9000/hive\") \\\n",
    "     .enableHiveSupport() \\\n",
    "     .getOrCreate()"
   ]
  },
  {
   "cell_type": "markdown",
   "metadata": {},
   "source": [
    "### Đọc dữ liệu từ bảng \"trips\""
   ]
  },
  {
   "cell_type": "code",
   "execution_count": 35,
   "metadata": {},
   "outputs": [],
   "source": [
    "raw_df = ss.sql('SELECT * FROM trips')\n",
    "df = raw_df.toPandas()"
   ]
  },
  {
   "cell_type": "code",
   "execution_count": 36,
   "metadata": {},
   "outputs": [
    {
     "name": "stdout",
     "output_type": "stream",
     "text": [
      "Số lượng bản ghi: 10040\n"
     ]
    }
   ],
   "source": [
    "print(f\"Số lượng bản ghi: {raw_df.count()}\")\n",
    "df = raw_df.sort('ArrivalTime')"
   ]
  },
  {
   "cell_type": "markdown",
   "metadata": {},
   "source": [
    "# Khai phá dữ liệu"
   ]
  },
  {
   "cell_type": "markdown",
   "metadata": {},
   "source": [
    "### Phân phối thời gian các chuyến bay"
   ]
  },
  {
   "cell_type": "code",
   "execution_count": 37,
   "metadata": {},
   "outputs": [
    {
     "data": {
      "text/plain": [
       "<matplotlib.axes._subplots.AxesSubplot at 0x7fb768f977d0>"
      ]
     },
     "execution_count": 37,
     "metadata": {},
     "output_type": "execute_result"
    },
    {
     "data": {
      "image/png": "[encoded data removed]",
      "text/plain": [
       "<Figure size 432x288 with 1 Axes>"
      ]
     },
     "metadata": {
      "needs_background": "light"
     },
     "output_type": "display_data"
    }
   ],
   "source": [
    "arrivalTime = df.select('ArrivalTime').toPandas()['ArrivalTime'].astype('int64')\n",
    "sns.distplot(arrivalTime)"
   ]
  },
  {
   "cell_type": "code",
   "execution_count": 38,
   "metadata": {},
   "outputs": [
    {
     "data": {
      "text/plain": [
       "<matplotlib.axes._subplots.AxesSubplot at 0x7fb7695f0a90>"
      ]
     },
     "execution_count": 38,
     "metadata": {},
     "output_type": "execute_result"
    },
    {
     "data": {
      "image/png": "[encoded data removed]",
      "text/plain": [
       "<Figure size 432x288 with 1 Axes>"
      ]
     },
     "metadata": {
      "needs_background": "light"
     },
     "output_type": "display_data"
    }
   ],
   "source": [
    "arrivalTime = df.select('DepartureTime').toPandas()['DepartureTime'].astype('int64')\n",
    "sns.distplot(arrivalTime)"
   ]
  },
  {
   "cell_type": "markdown",
   "metadata": {},
   "source": [
    "### Danh sách 10 điểm đến nhiều nhất trong 1 năm gần đây"
   ]
  },
  {
   "cell_type": "code",
   "execution_count": 39,
   "metadata": {},
   "outputs": [],
   "source": [
    "arrivalTime = df.select('DepartureTime').toPandas()['DepartureTime'].astype('int32')\n",
    "thirty_days = 86400 * 30 * 12\n",
    "lastRecordTime = arrivalTime.iloc[-1]\n",
    "pivot = int(lastRecordTime - thirty_days)\n",
    "s = df.filter(df.DepartureTime > pivot).select('Destination')"
   ]
  },
  {
   "cell_type": "code",
   "execution_count": 40,
   "metadata": {},
   "outputs": [],
   "source": [
    "t = s.toPandas()['Destination']"
   ]
  },
  {
   "cell_type": "code",
   "execution_count": 41,
   "metadata": {},
   "outputs": [
    {
     "data": {
      "text/plain": [
       "BKK    46\n",
       "MAD    37\n",
       "MIA    35\n",
       "LHR    33\n",
       "JFK    30\n",
       "SFO    29\n",
       "TXL    27\n",
       "LAX    24\n",
       "HKG    22\n",
       "MUC    21\n",
       "Name: Destination, dtype: int64"
      ]
     },
     "execution_count": 41,
     "metadata": {},
     "output_type": "execute_result"
    }
   ],
   "source": [
    "t.value_counts()[0:10]"
   ]
  },
  {
   "cell_type": "markdown",
   "metadata": {},
   "source": [
    "# Phát hiện ngoại lai"
   ]
  },
  {
   "cell_type": "code",
   "execution_count": 42,
   "metadata": {},
   "outputs": [],
   "source": [
    "raw_df = ss.sql('SELECT * FROM processed_trips')"
   ]
  },
  {
   "cell_type": "code",
   "execution_count": 43,
   "metadata": {},
   "outputs": [],
   "source": [
    "df = raw_df.sort('ArrivalTime')"
   ]
  },
  {
   "cell_type": "code",
   "execution_count": 46,
   "metadata": {},
   "outputs": [
    {
     "name": "stdout",
     "output_type": "stream",
     "text": [
      "+----+-------------------+-------------------+--------------------+-------------------+--------------------+-------------------+--------------------+--------------------+--------------------+--------------------+--------------------+--------------------+\n",
      "|  ID|        ArrivalTime|    BusinessLeisure|       CabinCategory|       CreationDate|        CurrencyCode|      DepartureTime|         Destination|     OfficeIdCountry|              Origin|         TotalAmount|                nPAX|              Record|\n",
      "+----+-------------------+-------------------+--------------------+-------------------+--------------------+-------------------+--------------------+--------------------+--------------------+--------------------+--------------------+--------------------+\n",
      "|2095|-3.4663511943336784|                0.0|-0.33814491417640635| -3.865796683544159|                 0.0|-3.3697311084856048|  0.1060096049316108| -0.5387705633017986|-0.24453480441431705|                 0.0|-0.14786718372213523|{\"ID\": 2095, \"Arr...|\n",
      "| 139| -3.141708648017771|                0.0|-0.33814491417640635|-3.4020730522138605|-0.35143837883077755|  -3.30274667660887| -0.7332037219108356|-0.12603163601911008| -0.5151604610109121|-0.05312100070977081|-0.14786718372213523|{\"ID\": 139, \"Arri...|\n",
      "|1975|-3.0427491701476113|                0.0|-0.33814491417640635|-3.0413991167347394|                 0.0|-2.9427193264820213|  1.0453563400904855|  1.0605927799186192| -0.3798476327126145|                 0.0|-0.14786718372213523|{\"ID\": 1975, \"Arr...|\n",
      "|4132|-3.0267787395246075|                0.0|-0.33814491417640635|-2.4173759585248313|                 0.0|-3.0195222952863947| -0.5090956175835913|-0.12603163601911008| -0.5151604610109121|                 0.0|  1.9363640075446127|{\"ID\": 4132, \"Arr...|\n",
      "|1052|-3.0210075475577485|                0.0|-0.33814491417640635|-2.8639246405466006|                 0.0|-2.9838247774899367| 0.07263180215946805| -0.3839934655707904| -0.5286917438407418|                 0.0|-0.14786718372213523|{\"ID\": 1052, \"Arr...|\n",
      "|8455| -3.006978178497172|                0.0|-0.33814491417640635|-2.8123997926210116|                 0.0| -3.070085181163314|-0.15624455970665369|  -0.848324758763815| -0.5286917438407418|                 0.0|-0.14786718372213523|{\"ID\": 8455, \"Arr...|\n",
      "|1566| -3.003624648029943|-1.0319971200514026|-0.33814491417640635|-3.3104733225683693|                 0.0|-2.8985445079757106|-0.36127963387838774| -0.5387705633017986| -0.2851286529038063|                 0.0|  0.8942484119112387|{\"ID\": 1566, \"Arr...|\n",
      "|2015|-2.9869176538676254|                0.0|-0.33814491417640635| -2.497525721964636| 0.08808762114699414|-2.8940135369066518| -0.2373049378675718| -0.4871781973914625| -0.5377125990606283|-0.03905658992665251|-0.14786718372213523|{\"ID\": 2015, \"Arr...|\n",
      "|7841| -2.981831032719658|                0.0|-0.33814491417640635| -2.640650299535716|  -0.644455712149292|-2.8541805407720204|-0.05611115139022543| -0.9515094905844871| -0.5061396057910256|-0.05312100070977081|-0.14786718372213523|{\"ID\": 7841, \"Arr...|\n",
      "|7460|-2.9308001776253176|                0.0|-0.33814491417640635| -2.760874944695423|                 0.0|-2.8572757012746033| -0.2611462255619595|  1.0605927799186192|   1.780647192450202|                 0.0|-0.14786718372213523|{\"ID\": 7460, \"Arr...|\n",
      "+----+-------------------+-------------------+--------------------+-------------------+--------------------+-------------------+--------------------+--------------------+--------------------+--------------------+--------------------+--------------------+\n",
      "only showing top 10 rows\n",
      "\n"
     ]
    }
   ],
   "source": [
    "df.show(10)"
   ]
  },
  {
   "cell_type": "code",
   "execution_count": null,
   "metadata": {},
   "outputs": [],
   "source": []
  }
 ],
 "metadata": {
  "kernelspec": {
   "display_name": "Python 3",
   "language": "python",
   "name": "python3"
  },
  "language_info": {
   "codemirror_mode": {
    "name": "ipython",
    "version": 3
   },
   "file_extension": ".py",
   "mimetype": "text/x-python",
   "name": "python",
   "nbconvert_exporter": "python",
   "pygments_lexer": "ipython3",
   "version": "3.7.6"
  }
 },
 "nbformat": 4,
 "nbformat_minor": 4
}
