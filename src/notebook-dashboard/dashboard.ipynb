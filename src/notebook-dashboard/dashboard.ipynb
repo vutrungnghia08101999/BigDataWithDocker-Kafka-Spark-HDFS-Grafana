{
 "cells": [
  {
   "cell_type": "code",
   "execution_count": 1,
   "metadata": {},
   "outputs": [],
   "source": [
    "from pyhive import hive\n",
    "import seaborn as sns\n",
    "from pyspark import SparkContext\n",
    "from pyspark.sql import SparkSession\n",
    "from pyspark.streaming import StreamingContext\n",
    "from pyspark.streaming.kafka import KafkaUtils\n",
    "import pandas as pd\n",
    "import json\n",
    "import matplotlib.pyplot as plt\n",
    "import numpy as np"
   ]
  },
  {
   "cell_type": "markdown",
   "metadata": {},
   "source": [
    "### Connect to Hive-server"
   ]
  },
  {
   "cell_type": "code",
   "execution_count": 2,
   "metadata": {},
   "outputs": [],
   "source": [
    "hive_conn = hive.Connection(host=\"hive-server\", port=10000)\n",
    "hive_cursor = hive_conn.cursor()"
   ]
  },
  {
   "cell_type": "markdown",
   "metadata": {},
   "source": [
    "### Connection to Spark"
   ]
  },
  {
   "cell_type": "code",
   "execution_count": 3,
   "metadata": {},
   "outputs": [],
   "source": [
    "ss = SparkSession.Builder() \\\n",
    "     .appName(\"DashBoard\") \\\n",
    "     .master(\"spark://batch-processing-spark-master:7077\") \\\n",
    "     .getOrCreate()"
   ]
  },
  {
   "cell_type": "markdown",
   "metadata": {},
   "source": [
    "### Get data from table \"trips\""
   ]
  },
  {
   "cell_type": "code",
   "execution_count": 10,
   "metadata": {},
   "outputs": [],
   "source": [
    "hive_cursor.execute('SELECT * FROM trips')\n",
    "products = hive_cursor.fetchall()\n",
    "# hive_cursor.execute('DROP TABLE trips')"
   ]
  },
  {
   "cell_type": "markdown",
   "metadata": {},
   "source": [
    "# Simple statistics"
   ]
  },
  {
   "cell_type": "code",
   "execution_count": 11,
   "metadata": {},
   "outputs": [
    {
     "name": "stdout",
     "output_type": "stream",
     "text": [
      "Number of records: 227\n"
     ]
    }
   ],
   "source": [
    "print(f\"Number of records: {len(products)}\")"
   ]
  },
  {
   "cell_type": "markdown",
   "metadata": {},
   "source": [
    "# Anomaly detection"
   ]
  },
  {
   "cell_type": "code",
   "execution_count": 12,
   "metadata": {},
   "outputs": [],
   "source": [
    "pdDF = pd.DataFrame(products)"
   ]
  },
  {
   "cell_type": "code",
   "execution_count": 13,
   "metadata": {},
   "outputs": [],
   "source": [
    "ppDF = ss.createDataFrame(pdDF)"
   ]
  },
  {
   "cell_type": "code",
   "execution_count": 15,
   "metadata": {},
   "outputs": [
    {
     "name": "stdout",
     "output_type": "stream",
     "text": [
      "+----------+---+---+-------+---+----------+---+---+---+---+---+\n",
      "|         0|  1|  2|      3|  4|         5|  6|  7|  8|  9| 10|\n",
      "+----------+---+---+-------+---+----------+---+---+---+---+---+\n",
      "|1441404544|nan| 40|2457207|nan|1442142720|FDF| FR|LYS|nan|  1|\n",
      "|1447067264|nan| 40|2457232|nan|1444564096|KWI| ES|HEL|nan|  1|\n",
      "|1434222208|nan| 40|2457072|nan|1433783936|CUE| ES|PMI|nan|  1|\n",
      "|1411671552|nan| 40|2456846|nan|1409718528|AKL| PE|HKG|nan|  1|\n",
      "|1420607872|nan| 20|2456934|nan|1420845696|LHR| GB|DOU|nan|  1|\n",
      "|1456138624|nan| 40|2457406|nan|1455163520|CMN| ES|MAD|nan|  1|\n",
      "|1402492160|nan| 40|2456750|nan|1400123392|ARN| NO|BUD|nan|  1|\n",
      "|1443518208|nan| 40|2457234|nan|1444866432|FCO| FI|HEL|nan|  1|\n",
      "|1452846080|  L| 40|2457029|nan|1449165056|TRG| FR|FRA|nan|  1|\n",
      "|1450247168|nan| 40|2457347|nan|1451028352|DOH| ES|BCN|nan|  1|\n",
      "|1448221440|nan| 40|2457140|nan|1445940480|FUK| CH|GVA|nan|  1|\n",
      "|1457346176|nan| 40|2457426|nan|1458704640|TLV| NO|OSL|nan|  1|\n",
      "|1429359744|  L| 40|2457109|nan|1430706048|SIN| SE|ARN|nan|  1|\n",
      "|1446891776|  B| 40|2457205|nan|1443007232|SFO| US|EWR|nan|  1|\n",
      "|1433693824|nan| 40|2457033|nan|1428328960|FCO| RS|LAX|nan|  2|\n",
      "|1452533888|nan| 40|2457281|nan|1449878272|JFK| DE|TXL|nan|  1|\n",
      "|1452454528|nan| 40|2457362|nan|1452615680|LTN| LV|RIX|nan|  1|\n",
      "|1446432640|nan| 40|2457167|nan|1443961216|REP| DE|FRA|nan|  1|\n",
      "|1428995840|nan| 40|2457085|nan|1425857280|HKG| CA|YVR|nan|  1|\n",
      "|1437059200|nan| 40|2457076|EUR|1433489408|NCE| SN|CAI|0.0|  1|\n",
      "+----------+---+---+-------+---+----------+---+---+---+---+---+\n",
      "only showing top 20 rows\n",
      "\n"
     ]
    }
   ],
   "source": [
    "ppDF.show()"
   ]
  },
  {
   "cell_type": "code",
   "execution_count": null,
   "metadata": {},
   "outputs": [],
   "source": []
  }
 ],
 "metadata": {
  "kernelspec": {
   "display_name": "Python 3",
   "language": "python",
   "name": "python3"
  },
  "language_info": {
   "codemirror_mode": {
    "name": "ipython",
    "version": 3
   },
   "file_extension": ".py",
   "mimetype": "text/x-python",
   "name": "python",
   "nbconvert_exporter": "python",
   "pygments_lexer": "ipython3",
   "version": "3.7.6"
  }
 },
 "nbformat": 4,
 "nbformat_minor": 4
}
