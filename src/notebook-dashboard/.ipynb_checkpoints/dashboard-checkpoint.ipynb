{
 "cells": [
  {
   "cell_type": "code",
   "execution_count": 2,
   "metadata": {},
   "outputs": [],
   "source": [
    "from pyhive import hive\n",
    "import seaborn as sns\n",
    "from pyspark import SparkContext\n",
    "from pyspark.sql import SparkSession\n",
    "from pyspark.streaming import StreamingContext\n",
    "from pyspark.streaming.kafka import KafkaUtils\n",
    "import pandas as pd\n",
    "import json\n",
    "import matplotlib.pyplot as plt\n",
    "import numpy as np"
   ]
  },
  {
   "cell_type": "markdown",
   "metadata": {},
   "source": [
    "### Connection to Spark and Hive"
   ]
  },
  {
   "cell_type": "code",
   "execution_count": 3,
   "metadata": {},
   "outputs": [],
   "source": [
    "ss = SparkSession.Builder() \\\n",
    "     .appName(\"DashBoard\") \\\n",
    "     .master(\"spark://batch-processing-spark-master:7077\") \\\n",
    "     .config(\"hive.metastore.uris\", \"thrift://hive-metastore:9083\") \\\n",
    "     .config(\"spark.sql.warehouse.dir\", \"hdfs://namenode:9000/hive\") \\\n",
    "     .enableHiveSupport() \\\n",
    "     .getOrCreate()"
   ]
  },
  {
   "cell_type": "markdown",
   "metadata": {},
   "source": [
    "### Get data from table \"trips\""
   ]
  },
  {
   "cell_type": "code",
   "execution_count": 14,
   "metadata": {},
   "outputs": [],
   "source": [
    "# hive_cursor.execute('SELECT * FROM trips')\n",
    "# products = hive_cursor.fetchall()\n",
    "# hive_cursor.execute('DROP TABLE trips')\n",
    "df = ss.sql('SELECT * FROM trips')"
   ]
  },
  {
   "cell_type": "code",
   "execution_count": 15,
   "metadata": {},
   "outputs": [
    {
     "data": {
      "text/plain": [
       "100408"
      ]
     },
     "execution_count": 15,
     "metadata": {},
     "output_type": "execute_result"
    }
   ],
   "source": [
    "df.count()"
   ]
  },
  {
   "cell_type": "markdown",
   "metadata": {},
   "source": [
    "# Simple statistics"
   ]
  },
  {
   "cell_type": "code",
   "execution_count": 14,
   "metadata": {},
   "outputs": [
    {
     "name": "stdout",
     "output_type": "stream",
     "text": [
      "Number of records: 454\n"
     ]
    }
   ],
   "source": [
    "print(f\"Number of records: {len(products)}\")"
   ]
  },
  {
   "cell_type": "markdown",
   "metadata": {},
   "source": [
    "# Anomaly detection"
   ]
  },
  {
   "cell_type": "code",
   "execution_count": 7,
   "metadata": {},
   "outputs": [],
   "source": [
    "pdDF = pd.DataFrame(products)"
   ]
  },
  {
   "cell_type": "code",
   "execution_count": 8,
   "metadata": {},
   "outputs": [],
   "source": [
    "ppDF = ss.createDataFrame(pdDF)"
   ]
  },
  {
   "cell_type": "code",
   "execution_count": 9,
   "metadata": {},
   "outputs": [
    {
     "name": "stdout",
     "output_type": "stream",
     "text": [
      "+----------+---+---+-------+---+----------+---+---+---+---+---+\n",
      "|         0|  1|  2|      3|  4|         5|  6|  7|  8|  9| 10|\n",
      "+----------+---+---+-------+---+----------+---+---+---+---+---+\n",
      "|1442012288|nan| 40|2457235|nan|1442806272|MMX| GB|ONT|nan|  1|\n",
      "|1447067264|nan| 40|2457232|nan|1444564096|KWI| ES|HEL|nan|  1|\n",
      "|1411671552|nan| 40|2456846|nan|1409718528|AKL| PE|HKG|nan|  1|\n",
      "|1425074560|nan| 40|2457052|nan|1427236736|CDG| US|MCO|nan|  1|\n",
      "|1427076480|nan| 40|2457048|nan|1427292160|BOG| AR|EZE|nan|  1|\n",
      "|1400953856|nan| 40|2456744|nan|1400681216|MRV| FR|KBP|nan|  1|\n",
      "|1447250432|  L| 40|2457262|nan|1445463680|CAN| CA|YYZ|nan|  2|\n",
      "|1420607872|nan| 20|2456934|nan|1420845696|LHR| GB|DOU|nan|  1|\n",
      "|1456138624|nan| 40|2457406|nan|1455163520|CMN| ES|MAD|nan|  1|\n",
      "|1402492160|nan| 40|2456750|nan|1400123392|ARN| NO|BUD|nan|  1|\n",
      "|1443942400|  L| 40|2457134|nan|1442520448|SJT| NO|OSL|nan|  2|\n",
      "|1429935104|  L| 40|2456996|nan|1428531968|MAD| AR|EZE|nan|  1|\n",
      "|1452846080|  L| 40|2457029|nan|1449165056|TRG| FR|FRA|nan|  1|\n",
      "|1448221440|nan| 40|2457140|nan|1445940480|FUK| CH|GVA|nan|  1|\n",
      "|1457346176|nan| 40|2457426|nan|1458704640|TLV| NO|OSL|nan|  1|\n",
      "|1433627008|  B| 20|2457012|nan|1432678528|EWR| GB|LHR|nan|  1|\n",
      "|1429359744|  L| 40|2457109|nan|1430706048|SIN| SE|ARN|nan|  1|\n",
      "|1446891776|  B| 40|2457205|nan|1443007232|SFO| US|EWR|nan|  1|\n",
      "|1447916544|nan| 40|2457229|nan|1445447936|LIN| SE|ARN|nan|  1|\n",
      "|1452533888|nan| 40|2457281|nan|1449878272|JFK| DE|TXL|nan|  1|\n",
      "+----------+---+---+-------+---+----------+---+---+---+---+---+\n",
      "only showing top 20 rows\n",
      "\n"
     ]
    }
   ],
   "source": [
    "ppDF.show()"
   ]
  },
  {
   "cell_type": "code",
   "execution_count": null,
   "metadata": {},
   "outputs": [],
   "source": []
  }
 ],
 "metadata": {
  "kernelspec": {
   "display_name": "Python 3",
   "language": "python",
   "name": "python3"
  },
  "language_info": {
   "codemirror_mode": {
    "name": "ipython",
    "version": 3
   },
   "file_extension": ".py",
   "mimetype": "text/x-python",
   "name": "python",
   "nbconvert_exporter": "python",
   "pygments_lexer": "ipython3",
   "version": "3.7.6"
  }
 },
 "nbformat": 4,
 "nbformat_minor": 4
}
